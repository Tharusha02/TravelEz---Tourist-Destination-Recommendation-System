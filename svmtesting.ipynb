{
 "cells": [
  {
   "cell_type": "code",
   "execution_count": 2,
   "id": "ccf0aa50",
   "metadata": {},
   "outputs": [
    {
     "name": "stdout",
     "output_type": "stream",
     "text": [
      "                         Name                                         Address  \\\n",
      "0    bavarian barn restaurant             no. 11, galle face court 02 colombo   \n",
      "1            lords restaurant            80b poruthota road etthukala negombo   \n",
      "2       nihonbashi restaurant           no 11, galle face terrace, colombo 03   \n",
      "3  free wind restaurant & bar  no 1285, kandy road, palaiyoothu, trinco malee   \n",
      "4            edwin restaurant                       204, lewis place, negombo   \n",
      "\n",
      "  Grade     District                            PS/MC/UC  \\\n",
      "0     a      colombo      colombo divisional secretariat   \n",
      "1     a      gampaha      negombo divisional secretariat   \n",
      "2     a      colombo      colombo divisional secretariat   \n",
      "3     a  trincomalee  trincomalee divisional secretariat   \n",
      "4     b      gampaha      negombo divisional secretariat   \n",
      "\n",
      "            AGA Division  \n",
      "0                colombo  \n",
      "1                negombo  \n",
      "2                colombo  \n",
      "3  uppuveli trinco malee  \n",
      "4                negombo  \n",
      "<class 'pandas.core.frame.DataFrame'>\n",
      "RangeIndex: 476 entries, 0 to 475\n",
      "Data columns (total 6 columns):\n",
      " #   Column        Non-Null Count  Dtype \n",
      "---  ------        --------------  ----- \n",
      " 0   Name          476 non-null    object\n",
      " 1   Address       476 non-null    object\n",
      " 2   Grade         476 non-null    object\n",
      " 3   District      476 non-null    object\n",
      " 4   PS/MC/UC      476 non-null    object\n",
      " 5   AGA Division  476 non-null    object\n",
      "dtypes: object(6)\n",
      "memory usage: 22.4+ KB\n",
      "None\n",
      "                       Name                Address Grade District  \\\n",
      "count                   476                    476   476      476   \n",
      "unique                  471                    474     2       22   \n",
      "top     blue sky restaurant  pinnawala, rambukkana     a  colombo   \n",
      "freq                      3                      2   384      255   \n",
      "\n",
      "                              PS/MC/UC AGA Division  \n",
      "count                              476          476  \n",
      "unique                              91           80  \n",
      "top     colombo divisional secretariat      colombo  \n",
      "freq                               144          178  \n",
      "Testing Accuracy with SVM Classifier: 71.33%\n"
     ]
    },
    {
     "name": "stderr",
     "output_type": "stream",
     "text": [
      "C:\\Users\\Asus_01\\anaconda3\\Lib\\site-packages\\sklearn\\model_selection\\_split.py:725: UserWarning: The least populated class in y has only 1 members, which is less than n_splits=5.\n",
      "  warnings.warn(\n"
     ]
    },
    {
     "name": "stdout",
     "output_type": "stream",
     "text": [
      "Best Parameters: {'C': 10, 'gamma': 1, 'kernel': 'sigmoid'}\n",
      "Testing Accuracy with GridSearchCV: 86.71%\n"
     ]
    }
   ],
   "source": [
    "import pandas as pd\n",
    "import numpy as np\n",
    "import seaborn as sns\n",
    "import matplotlib.pyplot as plt\n",
    "from sklearn.model_selection import train_test_split, GridSearchCV\n",
    "from sklearn.svm import SVC\n",
    "from sklearn.metrics import accuracy_score\n",
    "\n",
    "# Load your dataset\n",
    "df = pd.read_excel('preprocessed_data.xlsx') \n",
    "\n",
    "# EDA\n",
    "print(df.head())  # Display the first few rows of the dataset\n",
    "print(df.info())  # Display information about the dataset (data types, missing values, etc.)\n",
    "print(df.describe())  # Display summary statistics of numerical features\n",
    "\n",
    "# Assuming 'District' is the target variable you want to predict\n",
    "X = pd.get_dummies(df.drop('District', axis=1), drop_first=True)\n",
    "y = df['District']\n",
    "\n",
    "# Train-Test Split\n",
    "X_train, X_test, y_train, y_test = train_test_split(X, y, test_size=0.3, random_state=42)\n",
    "\n",
    "# Train Support Vector Machine Classifier\n",
    "svc_model = SVC()\n",
    "svc_model.fit(X_train, y_train)\n",
    "\n",
    "# Model Evaluation\n",
    "y_pred_test = svc_model.predict(X_test)\n",
    "test_accuracy = accuracy_score(y_test, y_pred_test)\n",
    "print(f'Testing Accuracy with SVM Classifier: {test_accuracy * 100:.2f}%')\n",
    "\n",
    "# Using GridSearchCV to tune parameters\n",
    "param_grid = {\n",
    "    'C': [0.1, 1, 10, 100],  \n",
    "    'gamma': [1, 0.1, 0.01, 0.001],\n",
    "    'kernel': ['rbf', 'linear', 'poly', 'sigmoid']\n",
    "}\n",
    "\n",
    "grid_search = GridSearchCV(estimator=SVC(), param_grid=param_grid, cv=5, scoring='accuracy')\n",
    "grid_search.fit(X_train, y_train)\n",
    "\n",
    "best_params = grid_search.best_params_\n",
    "print(\"Best Parameters:\", best_params)\n",
    "\n",
    "best_svc_model = SVC(**best_params)\n",
    "best_svc_model.fit(X_train, y_train)\n",
    "\n",
    "y_pred_test_grid = best_svc_model.predict(X_test)\n",
    "test_accuracy_grid = accuracy_score(y_test, y_pred_test_grid)\n",
    "print(f'Testing Accuracy with GridSearchCV: {test_accuracy_grid * 100:.2f}%')\n"
   ]
  },
  {
   "cell_type": "code",
   "execution_count": null,
   "id": "86deea4c",
   "metadata": {},
   "outputs": [],
   "source": []
  }
 ],
 "metadata": {
  "kernelspec": {
   "display_name": "Python 3 (ipykernel)",
   "language": "python",
   "name": "python3"
  },
  "language_info": {
   "codemirror_mode": {
    "name": "ipython",
    "version": 3
   },
   "file_extension": ".py",
   "mimetype": "text/x-python",
   "name": "python",
   "nbconvert_exporter": "python",
   "pygments_lexer": "ipython3",
   "version": "3.11.5"
  }
 },
 "nbformat": 4,
 "nbformat_minor": 5
}
