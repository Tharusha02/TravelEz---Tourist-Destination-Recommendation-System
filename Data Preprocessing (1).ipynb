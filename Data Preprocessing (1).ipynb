{
 "cells": [
  {
   "cell_type": "code",
   "execution_count": 1,
   "id": "61f1dcb1",
   "metadata": {},
   "outputs": [
    {
     "name": "stdout",
     "output_type": "stream",
     "text": [
      "Requirement already satisfied: pandas in c:\\users\\asus_01\\anaconda3\\lib\\site-packages (2.0.3)\n",
      "Requirement already satisfied: python-dateutil>=2.8.2 in c:\\users\\asus_01\\anaconda3\\lib\\site-packages (from pandas) (2.8.2)\n",
      "Requirement already satisfied: pytz>=2020.1 in c:\\users\\asus_01\\anaconda3\\lib\\site-packages (from pandas) (2023.3.post1)\n",
      "Requirement already satisfied: tzdata>=2022.1 in c:\\users\\asus_01\\anaconda3\\lib\\site-packages (from pandas) (2023.3)\n",
      "Requirement already satisfied: numpy>=1.21.0 in c:\\users\\asus_01\\anaconda3\\lib\\site-packages (from pandas) (1.24.3)\n",
      "Requirement already satisfied: six>=1.5 in c:\\users\\asus_01\\anaconda3\\lib\\site-packages (from python-dateutil>=2.8.2->pandas) (1.16.0)\n"
     ]
    }
   ],
   "source": [
    "!pip install pandas\n",
    "import pandas as pd\n"
   ]
  },
  {
   "cell_type": "code",
   "execution_count": 2,
   "id": "e608a692",
   "metadata": {},
   "outputs": [],
   "source": [
    "#Read the dataset file\n",
    "df = pd.read_excel('Restaurants.xlsx')\n"
   ]
  },
  {
   "cell_type": "code",
   "execution_count": 3,
   "id": "ad12ad7e",
   "metadata": {},
   "outputs": [
    {
     "data": {
      "text/html": [
       "<div>\n",
       "<style scoped>\n",
       "    .dataframe tbody tr th:only-of-type {\n",
       "        vertical-align: middle;\n",
       "    }\n",
       "\n",
       "    .dataframe tbody tr th {\n",
       "        vertical-align: top;\n",
       "    }\n",
       "\n",
       "    .dataframe thead th {\n",
       "        text-align: right;\n",
       "    }\n",
       "</style>\n",
       "<table border=\"1\" class=\"dataframe\">\n",
       "  <thead>\n",
       "    <tr style=\"text-align: right;\">\n",
       "      <th></th>\n",
       "      <th>Name</th>\n",
       "      <th>Address</th>\n",
       "      <th>Grade</th>\n",
       "      <th>District</th>\n",
       "      <th>AGA Division</th>\n",
       "      <th>PS/MC/UC</th>\n",
       "    </tr>\n",
       "  </thead>\n",
       "  <tbody>\n",
       "    <tr>\n",
       "      <th>0</th>\n",
       "      <td>BAVARIAN BARN RESTAURANT</td>\n",
       "      <td>NO. 11, GALLE FACE COURT 02 COLOMBO</td>\n",
       "      <td>A</td>\n",
       "      <td>Colombo</td>\n",
       "      <td>Colombo</td>\n",
       "      <td>Colombo Divisional Secretariat</td>\n",
       "    </tr>\n",
       "    <tr>\n",
       "      <th>1</th>\n",
       "      <td>LORDS RESTAURANT</td>\n",
       "      <td>80B PORUTHOTA ROAD ETTHUKALA NEGOMBO</td>\n",
       "      <td>A</td>\n",
       "      <td>Gampaha</td>\n",
       "      <td>Negombo</td>\n",
       "      <td>Negombo Divisional Secretariat</td>\n",
       "    </tr>\n",
       "    <tr>\n",
       "      <th>2</th>\n",
       "      <td>NIHONBASHI RESTAURANT</td>\n",
       "      <td>NO 11, GALLE FACE TERRACE, COLOMBO 03</td>\n",
       "      <td>A</td>\n",
       "      <td>Colombo</td>\n",
       "      <td>Colombo</td>\n",
       "      <td>Colombo Divisional Secretariat</td>\n",
       "    </tr>\n",
       "    <tr>\n",
       "      <th>3</th>\n",
       "      <td>FREE WIND RESTAURANT &amp; BAR</td>\n",
       "      <td>NO 1285, KANDY ROAD, PALAIYOOTHU, TRINCO MALEE</td>\n",
       "      <td>A</td>\n",
       "      <td>Trincomalee</td>\n",
       "      <td>Uppuveli Trinco Malee</td>\n",
       "      <td>Trincomalee Divisional Secretariat</td>\n",
       "    </tr>\n",
       "    <tr>\n",
       "      <th>4</th>\n",
       "      <td>EDWIN RESTAURANT</td>\n",
       "      <td>204, LEWIS PLACE, NEGOMBO</td>\n",
       "      <td>B</td>\n",
       "      <td>Gampaha</td>\n",
       "      <td>Negombo</td>\n",
       "      <td>Negombo Divisional Secretariat</td>\n",
       "    </tr>\n",
       "  </tbody>\n",
       "</table>\n",
       "</div>"
      ],
      "text/plain": [
       "                         Name                                         Address  \\\n",
       "0    BAVARIAN BARN RESTAURANT             NO. 11, GALLE FACE COURT 02 COLOMBO   \n",
       "1            LORDS RESTAURANT            80B PORUTHOTA ROAD ETTHUKALA NEGOMBO   \n",
       "2       NIHONBASHI RESTAURANT           NO 11, GALLE FACE TERRACE, COLOMBO 03   \n",
       "3  FREE WIND RESTAURANT & BAR  NO 1285, KANDY ROAD, PALAIYOOTHU, TRINCO MALEE   \n",
       "4            EDWIN RESTAURANT                       204, LEWIS PLACE, NEGOMBO   \n",
       "\n",
       "  Grade     District           AGA Division  \\\n",
       "0     A      Colombo                Colombo   \n",
       "1     A      Gampaha                Negombo   \n",
       "2     A      Colombo                Colombo   \n",
       "3     A  Trincomalee  Uppuveli Trinco Malee   \n",
       "4     B      Gampaha                Negombo   \n",
       "\n",
       "                             PS/MC/UC  \n",
       "0      Colombo Divisional Secretariat  \n",
       "1      Negombo Divisional Secretariat  \n",
       "2      Colombo Divisional Secretariat  \n",
       "3  Trincomalee Divisional Secretariat  \n",
       "4      Negombo Divisional Secretariat  "
      ]
     },
     "execution_count": 3,
     "metadata": {},
     "output_type": "execute_result"
    }
   ],
   "source": [
    "df.head()\n"
   ]
  },
  {
   "cell_type": "code",
   "execution_count": 4,
   "id": "4b4a09e5",
   "metadata": {},
   "outputs": [],
   "source": [
    "# 1. Change all texts to lowercase\n",
    "df = df.applymap(lambda x: x.lower() if type(x) == str else x)\n"
   ]
  },
  {
   "cell_type": "code",
   "execution_count": 5,
   "id": "43c984b0",
   "metadata": {},
   "outputs": [
    {
     "name": "stdout",
     "output_type": "stream",
     "text": [
      "Index(['Name', 'Address', 'Grade', 'District', 'AGA Division', 'PS/MC/UC'], dtype='object')\n"
     ]
    }
   ],
   "source": [
    "print(df.columns)\n"
   ]
  },
  {
   "cell_type": "code",
   "execution_count": 6,
   "id": "c2a82508",
   "metadata": {},
   "outputs": [
    {
     "name": "stdout",
     "output_type": "stream",
     "text": [
      "                              Name  \\\n",
      "0         bavarian barn restaurant   \n",
      "1                 lords restaurant   \n",
      "2            nihonbashi restaurant   \n",
      "3       free wind restaurant & bar   \n",
      "4                 edwin restaurant   \n",
      "..                             ...   \n",
      "471  shan city chineese restaurant   \n",
      "472     chinese delight restaurant   \n",
      "473      sameeha family restaurant   \n",
      "474            sea port restaurant   \n",
      "475                        amuseum   \n",
      "\n",
      "                                               Address Grade     District  \\\n",
      "0                  no. 11, galle face court 02 colombo     a      colombo   \n",
      "1                 80b poruthota road etthukala negombo     a      gampaha   \n",
      "2                no 11, galle face terrace, colombo 03     a      colombo   \n",
      "3       no 1285, kandy road, palaiyoothu, trinco malee     a  trincomalee   \n",
      "4                            204, lewis place, negombo     b      gampaha   \n",
      "..                                                 ...   ...          ...   \n",
      "471                27/3/1,,kotugodella veediya,,kandy.     b        kandy   \n",
      "472       41-a,ridgeway place, marine drive,colombo 04     a      colombo   \n",
      "473           no. 390,chilaw road, periyamulla,negombo     a      gampaha   \n",
      "474                 70,poruthota road,ethukala,negombo     a      gampaha   \n",
      "475  9th floor, green lanka building,nawam mawatha,...     a      colombo   \n",
      "\n",
      "              AGA Division                            PS/MC/UC  \n",
      "0                  colombo      colombo divisional secretariat  \n",
      "1                  negombo      negombo divisional secretariat  \n",
      "2                  colombo      colombo divisional secretariat  \n",
      "3    uppuveli trinco malee  trincomalee divisional secretariat  \n",
      "4                  negombo      negombo divisional secretariat  \n",
      "..                     ...                                 ...  \n",
      "471                  kandy        kandy divisional secretariat  \n",
      "472                colombo      colombo divisional secretariat  \n",
      "473                negombo      negombo divisional secretariat  \n",
      "474                negombo      negombo divisional secretariat  \n",
      "475                colombo      colombo divisional secretariat  \n",
      "\n",
      "[476 rows x 6 columns]\n"
     ]
    }
   ],
   "source": [
    "print(df)\n"
   ]
  },
  {
   "cell_type": "code",
   "execution_count": 7,
   "id": "188b2a66",
   "metadata": {},
   "outputs": [],
   "source": [
    "df.columns = df.columns.str.strip()  # Remove leading/trailing spaces from column names\n"
   ]
  },
  {
   "cell_type": "code",
   "execution_count": 8,
   "id": "f93612ae",
   "metadata": {},
   "outputs": [],
   "source": [
    "# 2. Remove \"pradeshiya sabha\" text from AGA division\n",
    "# Check if 'AGA Division' is in the DataFrame columns before attempting the operation\n",
    "if 'AGA Division' in df.columns:\n",
    "    df['AGA Division'] = df['AGA Division'].str.replace('pradeshiya sabha', '')\n",
    "else:\n",
    "    print(\"'AGA Division' column not found in the DataFrame.\")"
   ]
  },
  {
   "cell_type": "code",
   "execution_count": 9,
   "id": "de67b974",
   "metadata": {},
   "outputs": [],
   "source": [
    "# 3. Select relevant attributes\n",
    "selected_columns = ['Name', 'Address', 'Grade', 'District', 'PS/MC/UC','AGA Division']\n",
    "df = df[selected_columns]"
   ]
  },
  {
   "cell_type": "code",
   "execution_count": 10,
   "id": "ef3a68f3",
   "metadata": {},
   "outputs": [],
   "source": [
    "# 4. Data preprocessing steps \n",
    "df_preprocessed = df.dropna()\n"
   ]
  },
  {
   "cell_type": "code",
   "execution_count": 11,
   "id": "ed9c76b4",
   "metadata": {},
   "outputs": [
    {
     "name": "stdout",
     "output_type": "stream",
     "text": [
      "\n",
      "State of the data after preprocessing:\n",
      "                         Name                                         Address  \\\n",
      "0    bavarian barn restaurant             no. 11, galle face court 02 colombo   \n",
      "1            lords restaurant            80b poruthota road etthukala negombo   \n",
      "2       nihonbashi restaurant           no 11, galle face terrace, colombo 03   \n",
      "3  free wind restaurant & bar  no 1285, kandy road, palaiyoothu, trinco malee   \n",
      "4            edwin restaurant                       204, lewis place, negombo   \n",
      "\n",
      "  Grade     District                            PS/MC/UC  \\\n",
      "0     a      colombo      colombo divisional secretariat   \n",
      "1     a      gampaha      negombo divisional secretariat   \n",
      "2     a      colombo      colombo divisional secretariat   \n",
      "3     a  trincomalee  trincomalee divisional secretariat   \n",
      "4     b      gampaha      negombo divisional secretariat   \n",
      "\n",
      "            AGA Division  \n",
      "0                colombo  \n",
      "1                negombo  \n",
      "2                colombo  \n",
      "3  uppuveli trinco malee  \n",
      "4                negombo  \n"
     ]
    }
   ],
   "source": [
    "# Display the preprocessed data\n",
    "print(\"\\nState of the data after preprocessing:\")\n",
    "print(df_preprocessed.head())"
   ]
  },
  {
   "cell_type": "code",
   "execution_count": 12,
   "id": "f5d295b4",
   "metadata": {},
   "outputs": [
    {
     "name": "stdout",
     "output_type": "stream",
     "text": [
      "\n",
      "State of the data after preprocessing:\n",
      "                              Name  \\\n",
      "0         bavarian barn restaurant   \n",
      "1                 lords restaurant   \n",
      "2            nihonbashi restaurant   \n",
      "3       free wind restaurant & bar   \n",
      "4                 edwin restaurant   \n",
      "..                             ...   \n",
      "471  shan city chineese restaurant   \n",
      "472     chinese delight restaurant   \n",
      "473      sameeha family restaurant   \n",
      "474            sea port restaurant   \n",
      "475                        amuseum   \n",
      "\n",
      "                                               Address Grade     District  \\\n",
      "0                  no. 11, galle face court 02 colombo     a      colombo   \n",
      "1                 80b poruthota road etthukala negombo     a      gampaha   \n",
      "2                no 11, galle face terrace, colombo 03     a      colombo   \n",
      "3       no 1285, kandy road, palaiyoothu, trinco malee     a  trincomalee   \n",
      "4                            204, lewis place, negombo     b      gampaha   \n",
      "..                                                 ...   ...          ...   \n",
      "471                27/3/1,,kotugodella veediya,,kandy.     b        kandy   \n",
      "472       41-a,ridgeway place, marine drive,colombo 04     a      colombo   \n",
      "473           no. 390,chilaw road, periyamulla,negombo     a      gampaha   \n",
      "474                 70,poruthota road,ethukala,negombo     a      gampaha   \n",
      "475  9th floor, green lanka building,nawam mawatha,...     a      colombo   \n",
      "\n",
      "                               PS/MC/UC           AGA Division  \n",
      "0        colombo divisional secretariat                colombo  \n",
      "1        negombo divisional secretariat                negombo  \n",
      "2        colombo divisional secretariat                colombo  \n",
      "3    trincomalee divisional secretariat  uppuveli trinco malee  \n",
      "4        negombo divisional secretariat                negombo  \n",
      "..                                  ...                    ...  \n",
      "471        kandy divisional secretariat                  kandy  \n",
      "472      colombo divisional secretariat                colombo  \n",
      "473      negombo divisional secretariat                negombo  \n",
      "474      negombo divisional secretariat                negombo  \n",
      "475      colombo divisional secretariat                colombo  \n",
      "\n",
      "[476 rows x 6 columns]\n"
     ]
    }
   ],
   "source": [
    "# Display the entire preprocessed data\n",
    "print(\"\\nState of the data after preprocessing:\")\n",
    "print(df_preprocessed)"
   ]
  },
  {
   "cell_type": "code",
   "execution_count": 13,
   "id": "eed67b0e",
   "metadata": {},
   "outputs": [],
   "source": [
    "# Save the preprocessed data to a new Excel file\n",
    "df_preprocessed.to_excel('preprocessed_data.xlsx', index=False)\n"
   ]
  }
 ],
 "metadata": {
  "kernelspec": {
   "display_name": "Python 3 (ipykernel)",
   "language": "python",
   "name": "python3"
  },
  "language_info": {
   "codemirror_mode": {
    "name": "ipython",
    "version": 3
   },
   "file_extension": ".py",
   "mimetype": "text/x-python",
   "name": "python",
   "nbconvert_exporter": "python",
   "pygments_lexer": "ipython3",
   "version": "3.11.5"
  }
 },
 "nbformat": 4,
 "nbformat_minor": 5
}
