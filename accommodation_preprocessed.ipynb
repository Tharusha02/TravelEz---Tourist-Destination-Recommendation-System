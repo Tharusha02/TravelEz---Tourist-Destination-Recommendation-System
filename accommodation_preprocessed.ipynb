{
 "cells": [
  {
   "cell_type": "code",
   "execution_count": 1,
   "id": "df703ad2",
   "metadata": {},
   "outputs": [
    {
     "name": "stdout",
     "output_type": "stream",
     "text": [
      "Requirement already satisfied: pandas in c:\\users\\asus_01\\anaconda3\\lib\\site-packages (2.0.3)\n",
      "Requirement already satisfied: python-dateutil>=2.8.2 in c:\\users\\asus_01\\anaconda3\\lib\\site-packages (from pandas) (2.8.2)\n",
      "Requirement already satisfied: pytz>=2020.1 in c:\\users\\asus_01\\anaconda3\\lib\\site-packages (from pandas) (2023.3.post1)\n",
      "Requirement already satisfied: tzdata>=2022.1 in c:\\users\\asus_01\\anaconda3\\lib\\site-packages (from pandas) (2023.3)\n",
      "Requirement already satisfied: numpy>=1.21.0 in c:\\users\\asus_01\\anaconda3\\lib\\site-packages (from pandas) (1.24.3)\n",
      "Requirement already satisfied: six>=1.5 in c:\\users\\asus_01\\anaconda3\\lib\\site-packages (from python-dateutil>=2.8.2->pandas) (1.16.0)\n"
     ]
    }
   ],
   "source": [
    "!pip install pandas\n",
    "import pandas as pd"
   ]
  },
  {
   "cell_type": "code",
   "execution_count": 2,
   "id": "4947257b",
   "metadata": {},
   "outputs": [],
   "source": [
    "df = pd.read_csv('accommodation_dataset2.csv')"
   ]
  },
  {
   "cell_type": "code",
   "execution_count": 3,
   "id": "2574f47a",
   "metadata": {},
   "outputs": [
    {
     "data": {
      "text/html": [
       "<div>\n",
       "<style scoped>\n",
       "    .dataframe tbody tr th:only-of-type {\n",
       "        vertical-align: middle;\n",
       "    }\n",
       "\n",
       "    .dataframe tbody tr th {\n",
       "        vertical-align: top;\n",
       "    }\n",
       "\n",
       "    .dataframe thead th {\n",
       "        text-align: right;\n",
       "    }\n",
       "</style>\n",
       "<table border=\"1\" class=\"dataframe\">\n",
       "  <thead>\n",
       "    <tr style=\"text-align: right;\">\n",
       "      <th></th>\n",
       "      <th>Type</th>\n",
       "      <th>Name</th>\n",
       "      <th>Address</th>\n",
       "      <th>Rooms</th>\n",
       "      <th>Grade</th>\n",
       "      <th>District</th>\n",
       "      <th>PS/MC/UC</th>\n",
       "      <th>Logitiute</th>\n",
       "      <th>Latitude</th>\n",
       "      <th>AGA Division</th>\n",
       "    </tr>\n",
       "  </thead>\n",
       "  <tbody>\n",
       "    <tr>\n",
       "      <th>0</th>\n",
       "      <td>boutique hotels</td>\n",
       "      <td>the theva residency</td>\n",
       "      <td>11/b5/10-1 06th lane, hantana,kandy</td>\n",
       "      <td>10</td>\n",
       "      <td>NaN</td>\n",
       "      <td>kandy</td>\n",
       "      <td>kandy</td>\n",
       "      <td>80.635411</td>\n",
       "      <td>7.276036</td>\n",
       "      <td>kandy divisional secretariat</td>\n",
       "    </tr>\n",
       "    <tr>\n",
       "      <th>1</th>\n",
       "      <td>boutique hotels</td>\n",
       "      <td>highland villa</td>\n",
       "      <td>351, abimangama road, kumbalgama, weligama</td>\n",
       "      <td>10</td>\n",
       "      <td>NaN</td>\n",
       "      <td>matara</td>\n",
       "      <td>weligama</td>\n",
       "      <td>80.409972</td>\n",
       "      <td>5.960334</td>\n",
       "      <td>weligama divisional secretariat</td>\n",
       "    </tr>\n",
       "    <tr>\n",
       "      <th>2</th>\n",
       "      <td>boutique hotels</td>\n",
       "      <td>ulagalla walawwa resort</td>\n",
       "      <td>thirappane, anuradhapura</td>\n",
       "      <td>21</td>\n",
       "      <td>NaN</td>\n",
       "      <td>anuradhapura</td>\n",
       "      <td>anuradhapura</td>\n",
       "      <td>80.545063</td>\n",
       "      <td>8.205927</td>\n",
       "      <td>anuradhapura east</td>\n",
       "    </tr>\n",
       "    <tr>\n",
       "      <th>3</th>\n",
       "      <td>boutique hotels</td>\n",
       "      <td>galle fort hotel</td>\n",
       "      <td>no.28, church street, fort , galle</td>\n",
       "      <td>14</td>\n",
       "      <td>NaN</td>\n",
       "      <td>galle</td>\n",
       "      <td>galle</td>\n",
       "      <td>80.217563</td>\n",
       "      <td>6.026649</td>\n",
       "      <td>galle divisional secretariat</td>\n",
       "    </tr>\n",
       "    <tr>\n",
       "      <th>4</th>\n",
       "      <td>boutique hotels</td>\n",
       "      <td>the elephant corridor</td>\n",
       "      <td>pothana,kibissa, sigiriya</td>\n",
       "      <td>21</td>\n",
       "      <td>NaN</td>\n",
       "      <td>matale</td>\n",
       "      <td>matale</td>\n",
       "      <td>80.710743</td>\n",
       "      <td>7.943525</td>\n",
       "      <td>NaN</td>\n",
       "    </tr>\n",
       "  </tbody>\n",
       "</table>\n",
       "</div>"
      ],
      "text/plain": [
       "              Type                     Name  \\\n",
       "0  boutique hotels      the theva residency   \n",
       "1  boutique hotels           highland villa   \n",
       "2  boutique hotels  ulagalla walawwa resort   \n",
       "3  boutique hotels         galle fort hotel   \n",
       "4  boutique hotels    the elephant corridor   \n",
       "\n",
       "                                      Address  Rooms Grade      District  \\\n",
       "0         11/b5/10-1 06th lane, hantana,kandy     10   NaN         kandy   \n",
       "1  351, abimangama road, kumbalgama, weligama     10   NaN        matara   \n",
       "2                    thirappane, anuradhapura     21   NaN  anuradhapura   \n",
       "3          no.28, church street, fort , galle     14   NaN         galle   \n",
       "4                   pothana,kibissa, sigiriya     21   NaN        matale   \n",
       "\n",
       "       PS/MC/UC  Logitiute  Latitude                     AGA Division  \n",
       "0         kandy  80.635411  7.276036     kandy divisional secretariat  \n",
       "1     weligama   80.409972  5.960334  weligama divisional secretariat  \n",
       "2  anuradhapura  80.545063  8.205927                anuradhapura east  \n",
       "3         galle  80.217563  6.026649     galle divisional secretariat  \n",
       "4        matale  80.710743  7.943525                              NaN  "
      ]
     },
     "execution_count": 3,
     "metadata": {},
     "output_type": "execute_result"
    }
   ],
   "source": [
    "df.head()"
   ]
  },
  {
   "cell_type": "code",
   "execution_count": 4,
   "id": "d92580d5",
   "metadata": {},
   "outputs": [],
   "source": [
    "# 1. Change all texts to lowercase\n",
    "df = df.applymap(lambda x: x.lower() if type(x) == str else x)"
   ]
  },
  {
   "cell_type": "code",
   "execution_count": 5,
   "id": "daac95ba",
   "metadata": {},
   "outputs": [
    {
     "name": "stdout",
     "output_type": "stream",
     "text": [
      "Index(['Type', 'Name', 'Address', 'Rooms', 'Grade', 'District', 'PS/MC/UC',\n",
      "       'Logitiute', 'Latitude', 'AGA Division'],\n",
      "      dtype='object')\n"
     ]
    }
   ],
   "source": [
    "print(df.columns)"
   ]
  },
  {
   "cell_type": "code",
   "execution_count": 6,
   "id": "5cd1d8f9",
   "metadata": {},
   "outputs": [],
   "source": [
    "df.columns = df.columns.str.strip()  # Remove leading/trailing spaces from column names"
   ]
  },
  {
   "cell_type": "code",
   "execution_count": 7,
   "id": "522ed9bf",
   "metadata": {},
   "outputs": [],
   "source": [
    "# 2. Remove \"divisional secretariat\" text from AGA division\n",
    "# Check if 'AGA Division' is in the DataFrame columns before attempting the operation\n",
    "if 'AGA Division' in df.columns:\n",
    "    df['AGA Division'] = df['AGA Division'].str.replace('divisional secretariat', '')\n",
    "else:\n",
    "    print(\"'AGA Division' column not found in the DataFrame.\")"
   ]
  },
  {
   "cell_type": "code",
   "execution_count": 8,
   "id": "b326aff1",
   "metadata": {},
   "outputs": [],
   "source": [
    "# Remove \"pradeshiya sabha\" text from AGA division\n",
    "# Check if 'AGA Division' is in the DataFrame columns before attempting the operation\n",
    "if 'AGA Division' in df.columns:\n",
    "    df['AGA Division'] = df['AGA Division'].str.replace('pradeshiya sabha', '')\n",
    "else:\n",
    "    print(\"'AGA Division' column not found in the DataFrame.\")"
   ]
  },
  {
   "cell_type": "code",
   "execution_count": 9,
   "id": "d3626d41",
   "metadata": {},
   "outputs": [],
   "source": [
    "# 3. Select relevant attributes\n",
    "selected_columns = ['Type','Name', 'Address', 'Rooms', 'District', 'PS/MC/UC','AGA Division']\n",
    "df = df[selected_columns]"
   ]
  },
  {
   "cell_type": "code",
   "execution_count": 10,
   "id": "31e4d454",
   "metadata": {},
   "outputs": [],
   "source": [
    "# Remove double quotations from all values in the dataset\n",
    "df = df.applymap(lambda x: x.replace('\"', '') if isinstance(x, str) else x)"
   ]
  },
  {
   "cell_type": "code",
   "execution_count": 11,
   "id": "cbced133",
   "metadata": {},
   "outputs": [],
   "source": [
    "df_preprocessed = df.dropna()"
   ]
  },
  {
   "cell_type": "code",
   "execution_count": 12,
   "id": "03290f7d",
   "metadata": {},
   "outputs": [
    {
     "name": "stdout",
     "output_type": "stream",
     "text": [
      "\n",
      "State of the data after preprocessing:\n",
      "              Type                     Name  \\\n",
      "0  boutique hotels      the theva residency   \n",
      "1  boutique hotels           highland villa   \n",
      "2  boutique hotels  ulagalla walawwa resort   \n",
      "3  boutique hotels         galle fort hotel   \n",
      "5  boutique hotels                amanwella   \n",
      "\n",
      "                                      Address  Rooms      District  \\\n",
      "0         11/b5/10-1 06th lane, hantana,kandy     10         kandy   \n",
      "1  351, abimangama road, kumbalgama, weligama     10        matara   \n",
      "2                    thirappane, anuradhapura     21  anuradhapura   \n",
      "3          no.28, church street, fort , galle     14         galle   \n",
      "5          wellawatura, godellawela, tangalle     30    hambantota   \n",
      "\n",
      "       PS/MC/UC       AGA Division  \n",
      "0         kandy             kandy   \n",
      "1     weligama           weligama   \n",
      "2  anuradhapura  anuradhapura east  \n",
      "3         galle             galle   \n",
      "5     tangalle           tangalle   \n"
     ]
    }
   ],
   "source": [
    "# Display the preprocessed data\n",
    "print(\"\\nState of the data after preprocessing:\")\n",
    "print(df_preprocessed.head())"
   ]
  },
  {
   "cell_type": "code",
   "execution_count": 13,
   "id": "cd29bc84",
   "metadata": {},
   "outputs": [
    {
     "name": "stdout",
     "output_type": "stream",
     "text": [
      "\n",
      "State of the data after preprocessing:\n",
      "                 Type                      Name  \\\n",
      "0     boutique hotels       the theva residency   \n",
      "1     boutique hotels            highland villa   \n",
      "2     boutique hotels   ulagalla walawwa resort   \n",
      "3     boutique hotels          galle fort hotel   \n",
      "5     boutique hotels                 amanwella   \n",
      "...               ...                       ...   \n",
      "2125   tourist hotels              hotel nippon   \n",
      "2126   tourist hotels        thidas arana hotel   \n",
      "2127   tourist hotels  the grand mountain hotel   \n",
      "2128   tourist hotels     arie lagoon - negombo   \n",
      "2129   tourist hotels                the villas   \n",
      "\n",
      "                                               Address  Rooms      District  \\\n",
      "0                  11/b5/10-1 06th lane, hantana,kandy     10         kandy   \n",
      "1           351, abimangama road, kumbalgama, weligama     10        matara   \n",
      "2                             thirappane, anuradhapura     21  anuradhapura   \n",
      "3                   no.28, church street, fort , galle     14         galle   \n",
      "5                   wellawatura, godellawela, tangalle     30    hambantota   \n",
      "...                                                ...    ...           ...   \n",
      "2125               123, kumaranratnam road, colombo 02     49       colombo   \n",
      "2126              23rd,mile post,bandiwewa,polonnaruwa     11   polonnaruwa   \n",
      "2127   73/1,rohana dissanayake mawatha,mc road,matale.     86        matale   \n",
      "2128            587,pamunugama road,thalahena, negombo     55       gampaha   \n",
      "2129  352/4,rathnayaka road,thalpitiya south,wadduwa,,     32      kalutara   \n",
      "\n",
      "                                 PS/MC/UC       AGA Division  \n",
      "0                                   kandy             kandy   \n",
      "1                               weligama           weligama   \n",
      "2                            anuradhapura  anuradhapura east  \n",
      "3                                   galle             galle   \n",
      "5                               tangalle           tangalle   \n",
      "...                                   ...                ...  \n",
      "2125       colombo divisional secretariat            colombo  \n",
      "2126  thamankaduwa divisional secretariat      thamankaduwa   \n",
      "2127        matale divisional secretariat             matale  \n",
      "2128       negombo divisional secretariat            negombo  \n",
      "2129      panadura divisional secretariat          panadura   \n",
      "\n",
      "[2111 rows x 7 columns]\n"
     ]
    }
   ],
   "source": [
    "# Display the entire preprocessed data\n",
    "print(\"\\nState of the data after preprocessing:\")\n",
    "print(df_preprocessed)"
   ]
  },
  {
   "cell_type": "code",
   "execution_count": 14,
   "id": "9e84ed41",
   "metadata": {},
   "outputs": [],
   "source": [
    "# Save the preprocessed data to a CSV file\n",
    "df.to_csv('Accommodation.csv', index=False)"
   ]
  },
  {
   "cell_type": "code",
   "execution_count": null,
   "id": "4e20860f",
   "metadata": {},
   "outputs": [],
   "source": []
  }
 ],
 "metadata": {
  "kernelspec": {
   "display_name": "Python 3 (ipykernel)",
   "language": "python",
   "name": "python3"
  },
  "language_info": {
   "codemirror_mode": {
    "name": "ipython",
    "version": 3
   },
   "file_extension": ".py",
   "mimetype": "text/x-python",
   "name": "python",
   "nbconvert_exporter": "python",
   "pygments_lexer": "ipython3",
   "version": "3.11.5"
  }
 },
 "nbformat": 4,
 "nbformat_minor": 5
}
